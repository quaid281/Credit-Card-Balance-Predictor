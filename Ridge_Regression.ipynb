{
  "nbformat": 4,
  "nbformat_minor": 0,
  "metadata": {
    "kernelspec": {
      "display_name": "Python 3",
      "language": "python",
      "name": "python3"
    },
    "language_info": {
      "codemirror_mode": {
        "name": "ipython",
        "version": 3
      },
      "file_extension": ".py",
      "mimetype": "text/x-python",
      "name": "python",
      "nbconvert_exporter": "python",
      "pygments_lexer": "ipython3",
      "version": "3.6.8"
    },
    "colab": {
      "name": "Ridge Regression.ipynb",
      "provenance": [],
      "collapsed_sections": [],
      "toc_visible": true
    }
  },
  "cells": [
    {
      "cell_type": "markdown",
      "metadata": {
        "id": "PWedazQJwYDs"
      },
      "source": [
        "# Andre Williams\n",
        "\n",
        "Coding Assignment\n",
        "\n",
        "CAP 5625 Computational Foundation of AI\n",
        "\n",
        "Z# 234990945"
      ]
    },
    {
      "cell_type": "code",
      "metadata": {
        "id": "6Rx1zwY0frNh"
      },
      "source": [
        "import pandas as pd \n",
        "import numpy as np \n",
        "import matplotlib.pyplot as plt\n",
        "%matplotlib inline"
      ],
      "execution_count": null,
      "outputs": []
    },
    {
      "cell_type": "markdown",
      "metadata": {
        "id": "anfAd3fhzDpZ"
      },
      "source": [
        "# Pre-Deliverable\n",
        "\n",
        "1.   Import File\n",
        "2.   Clean Data\n",
        "3.   Create Functions"
      ]
    },
    {
      "cell_type": "code",
      "metadata": {
        "id": "SyIxmu1yfrNl",
        "outputId": "9d5bd709-d330-4ab4-d38b-4cd405d54cab",
        "colab": {
          "base_uri": "https://localhost:8080/",
          "height": 176
        }
      },
      "source": [
        "# Reading input csv file\n",
        "filename = 'Credit_N400_p9.csv'\n",
        "data     = pd.read_csv(filename)\n",
        "print(data.head())\n",
        "print(data.shape)"
      ],
      "execution_count": null,
      "outputs": [
        {
          "output_type": "stream",
          "text": [
            "    Income  Limit  Rating  Cards  ...  Gender  Student Married Balance\n",
            "0   14.891   3606     283      2  ...    Male       No     Yes     333\n",
            "1  106.025   6645     483      3  ...  Female      Yes     Yes     903\n",
            "2  104.593   7075     514      4  ...    Male       No      No     580\n",
            "3  148.924   9504     681      3  ...  Female       No      No     964\n",
            "4   55.882   4897     357      2  ...    Male       No     Yes     331\n",
            "\n",
            "[5 rows x 10 columns]\n",
            "(400, 10)\n"
          ],
          "name": "stdout"
        }
      ]
    },
    {
      "cell_type": "code",
      "metadata": {
        "id": "EPcB3Q4cfrNo",
        "outputId": "6a317eec-5160-42c0-95ff-6a602572d802",
        "colab": {
          "base_uri": "https://localhost:8080/",
          "height": 158
        }
      },
      "source": [
        "# Convert qualitative features to numbers required for regression analysis \n",
        "data_p = data.copy() # making a copy for preprocessing of input data\n",
        "\n",
        "col_name = 'Gender'\n",
        "data_p[col_name] = data[col_name].replace(['Male','Female'],[1,0])\n",
        "\n",
        "col_name = 'Student'\n",
        "data_p[col_name] = data[col_name].replace(['Yes','No'],[1,0])\n",
        "\n",
        "col_name = 'Married'\n",
        "data_p[col_name] = data[col_name].replace(['Yes','No'],[1,0])\n",
        "\n",
        "print(data_p.head())"
      ],
      "execution_count": null,
      "outputs": [
        {
          "output_type": "stream",
          "text": [
            "    Income  Limit  Rating  Cards  ...  Gender  Student  Married  Balance\n",
            "0   14.891   3606     283      2  ...       1        0        1      333\n",
            "1  106.025   6645     483      3  ...       0        1        1      903\n",
            "2  104.593   7075     514      4  ...       1        0        0      580\n",
            "3  148.924   9504     681      3  ...       0        0        0      964\n",
            "4   55.882   4897     357      2  ...       1        0        1      331\n",
            "\n",
            "[5 rows x 10 columns]\n"
          ],
          "name": "stdout"
        }
      ]
    },
    {
      "cell_type": "code",
      "metadata": {
        "id": "fLx0Xk4JfrNq",
        "outputId": "30929a21-e191-4d4b-f5e9-d7547bae8b8a",
        "colab": {
          "base_uri": "https://localhost:8080/",
          "height": 318
        }
      },
      "source": [
        "# Converting pandas dataframe to numpy array for further processing and separating input features X and output variable Y \n",
        "X = np.array(data_p.iloc[:,:-1], dtype='float64') # all columns except last column which is output variable Balance\n",
        "print(X.shape)\n",
        "print(X[:5,:])\n",
        "\n",
        "Y = np.array(data_p.iloc[:,-1], dtype='float64') # Selecting last column\n",
        "Y = Y.reshape([-1,1])\n",
        "print(Y.shape)\n",
        "print(Y[:5,:])\n"
      ],
      "execution_count": null,
      "outputs": [
        {
          "output_type": "stream",
          "text": [
            "(400, 9)\n",
            "[[1.48910e+01 3.60600e+03 2.83000e+02 2.00000e+00 3.40000e+01 1.10000e+01\n",
            "  1.00000e+00 0.00000e+00 1.00000e+00]\n",
            " [1.06025e+02 6.64500e+03 4.83000e+02 3.00000e+00 8.20000e+01 1.50000e+01\n",
            "  0.00000e+00 1.00000e+00 1.00000e+00]\n",
            " [1.04593e+02 7.07500e+03 5.14000e+02 4.00000e+00 7.10000e+01 1.10000e+01\n",
            "  1.00000e+00 0.00000e+00 0.00000e+00]\n",
            " [1.48924e+02 9.50400e+03 6.81000e+02 3.00000e+00 3.60000e+01 1.10000e+01\n",
            "  0.00000e+00 0.00000e+00 0.00000e+00]\n",
            " [5.58820e+01 4.89700e+03 3.57000e+02 2.00000e+00 6.80000e+01 1.60000e+01\n",
            "  1.00000e+00 0.00000e+00 1.00000e+00]]\n",
            "(400, 1)\n",
            "[[333.]\n",
            " [903.]\n",
            " [580.]\n",
            " [964.]\n",
            " [331.]]\n"
          ],
          "name": "stdout"
        }
      ]
    },
    {
      "cell_type": "code",
      "metadata": {
        "id": "7Rnc1_whfrNu"
      },
      "source": [
        "# Defining functions for centering response variable Y and standardizing input features X\n",
        "# Both Y and X are assumed to be numpy arrays\n",
        "# Dimension of Y is assumed to be (num_samples,1) and dim of X is assumed to be (num_samples, num_features)\n",
        "\n",
        "# Function for centering Y\n",
        "def center_Y(Y):\n",
        "    mean_Y = np.mean(Y, axis=0)\n",
        "    Y_p = Y - mean_Y\n",
        "    return Y_p , mean_Y\n",
        "    \n",
        "# Function for standardizing X \n",
        "def standardize_X(X) :\n",
        "    mean_X = np.mean(X, axis=0)\n",
        "    mean_X = mean_X.reshape([1,-1]) # reshaping mean_X to dim (1,9) , useful for broadcasting in following steps\n",
        "    X_p    = X - mean_X \n",
        "    std_X  = np.std(X_p, axis=0) # computing standard deviation \n",
        "    std_X  = std_X.reshape([1,-1]) # reshaping std_X to dim (1,9) , useful for broadcasting in following steps\n",
        "    X_p    = X_p / std_X \n",
        "    return X_p, mean_X, std_X\n",
        "\n"
      ],
      "execution_count": null,
      "outputs": []
    },
    {
      "cell_type": "code",
      "metadata": {
        "id": "hcbtFbFMfrNz",
        "outputId": "425eb5ea-408b-4924-b1ea-20599e1d446b",
        "colab": {
          "base_uri": "https://localhost:8080/",
          "height": 123
        }
      },
      "source": [
        "# Centering response variable Y and standardizing input features X\n",
        "Y_p, mean_Y = center_Y(Y)\n",
        "X_p, mean_X, std_X = standardize_X(X)\n",
        "print('Mean_Y' , mean_Y)\n",
        "print('Mean_X' , mean_X)\n",
        "print('STD_X'  , std_X)\n"
      ],
      "execution_count": null,
      "outputs": [
        {
          "output_type": "stream",
          "text": [
            "Mean_Y [520.015]\n",
            "Mean_X [[4.5218885e+01 4.7356000e+03 3.5494000e+02 2.9575000e+00 5.5667500e+01\n",
            "  1.3450000e+01 4.8250000e-01 1.0000000e-01 6.1250000e-01]]\n",
            "STD_X [[3.52001903e+01 2.30531179e+03 1.54530616e+02 1.36955969e+00\n",
            "  1.72282310e+01 3.12129781e+00 4.99693656e-01 3.00000000e-01\n",
            "  4.87179382e-01]]\n"
          ],
          "name": "stdout"
        }
      ]
    },
    {
      "cell_type": "code",
      "metadata": {
        "id": "6QNI15-ofrN5"
      },
      "source": [
        "# Function for performing batch gradient descent for Ridge Regression\n",
        "# Both Y and X are assumed to be numpy arrays\n",
        "# Dimension of Y is assumed to be (num_samples,1) and dim of X is assumed to be (num_samples, num_features)\n",
        "# X,Y are assumed to have been pre-processed for centering Y and standardizing features X\n",
        "# alpha is the specified learning rate \n",
        "# lmbda is the specified tuning parameter (the regularization factor)\n",
        "# This function returns - \n",
        "# beta_coeffs - the computed ridge regression parameters (beta coefficients)\n",
        "# mse_lst     - list of mean squared errors computed for each iteration of the gradient descent \n",
        "# Check for convergence by using percentage of old beta vs. new beta\n",
        "def perform_RR(X, Y, alpha, lmbda) : \n",
        "    num_samples , num_features = X.shape\n",
        "    max_iters = 1000\n",
        "    beta_convergence = 1e-8\n",
        "    mse_lst = []\n",
        "    beta_coeffs = np.random.uniform(-1,1,(num_features,1)) # initializing beta_coeffs with random values from a uniform distribution in the range [-1,1]\n",
        "    for i in range(max_iters) :    \n",
        "        beta_coeffs_old = beta_coeffs\n",
        "        temp = Y - np.matmul(X,beta_coeffs)\n",
        "        beta_coeffs = beta_coeffs - 2*alpha*( lmbda*beta_coeffs -  np.matmul( X.T, temp ) )\n",
        "        \n",
        "        Y_pred = np.matmul(X,beta_coeffs)\n",
        "        mse = np.mean(np.square(Y - Y_pred))\n",
        "        mse_lst.append(mse)\n",
        "        \n",
        "        beta_coeffs_diff = np.abs((beta_coeffs - beta_coeffs_old)/beta_coeffs_old)\n",
        "        beta_diff_max    = np.max(beta_coeffs_diff)\n",
        "        if (beta_diff_max < beta_convergence):\n",
        "            print(\"Skipping further gradient descent iterations since beta coefficients not changing. Present iteration {}\".format(i))\n",
        "            break\n",
        "            \n",
        "    if (mse_lst[-1] < mse_lst[0]) : # verifying that the last mean squared error value is lower than the initial value\n",
        "        pass \n",
        "    else :\n",
        "        print(\"Algorithm did NOT converge for alpha={}, lambda={}\".format(alpha, lmbda))\n",
        "    \n",
        "    return beta_coeffs, mse_lst\n",
        "    \n"
      ],
      "execution_count": null,
      "outputs": []
    },
    {
      "cell_type": "markdown",
      "metadata": {
        "id": "13rHNZopy308"
      },
      "source": [
        "# Deliverable 1\n",
        "Create Plot"
      ]
    },
    {
      "cell_type": "code",
      "metadata": {
        "id": "H_MOE0xJfrN9",
        "outputId": "ffa5f5be-78b6-473d-a66e-5e2fef177567",
        "colab": {
          "base_uri": "https://localhost:8080/",
          "height": 454
        }
      },
      "source": [
        "lmbdas     = np.array([1e-2, 1e-1, 1e0, 1e1, 1e2, 1e3, 1e4])\n",
        "log_lmbdas = np.log10(lmbdas)\n",
        "#print(log_lmbda)\n",
        "\n",
        "alpha = 1e-5\n",
        "beta_coeffs_lst = [] # initializing empty list for storing the computed beta_coefficients for each of the tuning parameter lmbda values     \n",
        "for i, lmbda in enumerate(lmbdas) :\n",
        "    print('Computing coefficients for tuning parameter={}'.format(lmbda))\n",
        "    coeffs, mse_lst = perform_RR(X_p, Y_p, alpha, lmbda)\n",
        "    beta_coeffs_lst.append(coeffs)\n",
        "\n",
        "num_features = X_p.shape[1]    \n",
        "plt.figure()\n",
        "plt.xlabel('log10(lambda)')\n",
        "plt.ylabel('Regression Coefficients')\n",
        "plt.title('Effect of tuning parameter on Ridge Regression Coefficients')\n",
        "for j in range(num_features) :\n",
        "    coeffs_j    = [ coeffs[j,0] for coeffs in beta_coeffs_lst  ]\n",
        "    legend_str = 'j_{}'.format(j)\n",
        "    plt.plot(log_lmbdas, coeffs_j, label=legend_str)\n",
        "plt.legend()\n",
        "plt.rcParams['figure.figsize'] = [10, 10]\n",
        "plt.show()\n"
      ],
      "execution_count": null,
      "outputs": [
        {
          "output_type": "stream",
          "text": [
            "Computing coefficients for tuning parameter=0.01\n",
            "Computing coefficients for tuning parameter=0.1\n",
            "Computing coefficients for tuning parameter=1.0\n",
            "Computing coefficients for tuning parameter=10.0\n",
            "Computing coefficients for tuning parameter=100.0\n",
            "Computing coefficients for tuning parameter=1000.0\n",
            "Skipping further gradient descent iterations since beta coefficients not changing. Present iteration 737\n",
            "Computing coefficients for tuning parameter=10000.0\n",
            "Skipping further gradient descent iterations since beta coefficients not changing. Present iteration 86\n"
          ],
          "name": "stdout"
        },
        {
          "output_type": "display_data",
          "data": {
            "image/png": "[encoded data removed]",
            "text/plain": [
              "<Figure size 432x288 with 1 Axes>"
            ]
          },
          "metadata": {
            "tags": [],
            "needs_background": "light"
          }
        }
      ]
    },
    {
      "cell_type": "markdown",
      "metadata": {
        "id": "Uh0st9W_xAQr"
      },
      "source": [
        "# Deliverable 2\n",
        "*5 Fold Cross Validation*"
      ]
    },
    {
      "cell_type": "code",
      "metadata": {
        "id": "_lbiT_RPfrOG",
        "outputId": "89e0483e-04fd-4ba2-97a6-4bd0d265a4c6",
        "colab": {
          "base_uri": "https://localhost:8080/",
          "height": 1000
        }
      },
      "source": [
        "lmbdas     = np.array([1e-2, 1e-1, 1e0, 1e1, 1e2, 1e3, 1e4])\n",
        "log_lmbdas = np.log10(lmbdas)\n",
        "#print(log_lmbda)\n",
        "\n",
        "# validation data start and end indices for 5-fold cross validation\n",
        "num_samples = X.shape[0]\n",
        "fold_factor = 5 \n",
        "num_samples_val = num_samples//fold_factor\n",
        "s_indices = [ num_samples_val*ind for ind in range(fold_factor)]\n",
        "e_indices = [ ind + num_samples_val for ind in s_indices ]\n",
        "print(s_indices)\n",
        "print(e_indices)\n",
        "\n",
        "alpha = 1e-5\n",
        "CV_errors = [] # initializing empty list for storing the cross validation errors for each of the tuning parameter lmbda values     \n",
        "for i, lmbda in enumerate(lmbdas) :\n",
        "    print('Computing 5-fold cross validation error for tuning parameter={}'.format(lmbda))\n",
        "    mses = [] \n",
        "    for i in range(fold_factor) :\n",
        "        s_index = s_indices[i]\n",
        "        e_index = e_indices[i]\n",
        "        X_val   = X[s_index:e_index, :]\n",
        "        Y_val   = Y[s_index:e_index, :]\n",
        "        X_train = np.vstack(( X[0:s_index,:] , X[e_index:, :] ))\n",
        "        Y_train = np.vstack(( Y[0:s_index,:] , Y[e_index:, :] ))\n",
        "        #print(X_val.shape, Y_val.shape, X_train.shape, Y_train.shape)\n",
        "        #print(X_val[0,0], Y_val[0,0], X_train[0,0], Y_train[0,0])\n",
        "    \n",
        "        # Preprocessing X and Y\n",
        "        X_train_p, mean_X_train, std_X_train = standardize_X(X_train)\n",
        "        Y_train_p, mean_Y_train = center_Y(Y_train)\n",
        "        X_val_p = (X_val - mean_X_train)/std_X_train\n",
        "        Y_val_p =  Y_val - mean_Y_train\n",
        "    \n",
        "        # Performing ridge regression and computing mse on the validation set\n",
        "        beta_coeffs, _ = perform_RR(X_train_p, Y_train_p, alpha, lmbda)\n",
        "        Y_pred = np.matmul(X_val_p, beta_coeffs)  \n",
        "        mse    = np.mean(np.square(Y_val_p - Y_pred))\n",
        "        mses.append(mse)\n",
        "    \n",
        "    CV_error = np.mean(mses)\n",
        "    CV_errors.append(CV_error)    \n",
        "    #print(\"MSEs\",mses)\n",
        "    print(\"CV_error\", CV_error)\n",
        "    \n",
        "\n",
        "plt.figure()\n",
        "plt.xlabel('log10(lambda)')\n",
        "plt.ylabel('Cross Validation Error')\n",
        "plt.title('Effect of tuning parameter on the Cross Validation Error')\n",
        "plt.plot(log_lmbdas, CV_errors)\n",
        "plt.rcParams['figure.figsize'] = [10, 10]\n",
        "plt.show()"
      ],
      "execution_count": null,
      "outputs": [
        {
          "output_type": "stream",
          "text": [
            "[0, 80, 160, 240, 320]\n",
            "[80, 160, 240, 320, 400]\n",
            "Computing 5-fold cross validation error for tuning parameter=0.01\n",
            "CV_error 12396.79724409415\n",
            "Computing 5-fold cross validation error for tuning parameter=0.1\n",
            "CV_error 12405.032044695472\n",
            "Computing 5-fold cross validation error for tuning parameter=1.0\n",
            "CV_error 12528.61842606936\n",
            "Computing 5-fold cross validation error for tuning parameter=10.0\n",
            "CV_error 13876.757727092288\n",
            "Computing 5-fold cross validation error for tuning parameter=100.0\n",
            "CV_error 31038.934509413946\n",
            "Computing 5-fold cross validation error for tuning parameter=1000.0\n",
            "Skipping further gradient descent iterations since beta coefficients not changing. Present iteration 677\n",
            "Skipping further gradient descent iterations since beta coefficients not changing. Present iteration 704\n",
            "Skipping further gradient descent iterations since beta coefficients not changing. Present iteration 678\n",
            "Skipping further gradient descent iterations since beta coefficients not changing. Present iteration 673\n",
            "Skipping further gradient descent iterations since beta coefficients not changing. Present iteration 681\n",
            "CV_error 107121.87619900315\n",
            "Computing 5-fold cross validation error for tuning parameter=10000.0\n",
            "Skipping further gradient descent iterations since beta coefficients not changing. Present iteration 101\n",
            "Skipping further gradient descent iterations since beta coefficients not changing. Present iteration 84\n",
            "Skipping further gradient descent iterations since beta coefficients not changing. Present iteration 76\n",
            "Skipping further gradient descent iterations since beta coefficients not changing. Present iteration 88\n",
            "Skipping further gradient descent iterations since beta coefficients not changing. Present iteration 77\n",
            "CV_error 191594.57564906668\n"
          ],
          "name": "stdout"
        },
        {
          "output_type": "display_data",
          "data": {
            "image/png": "[encoded data removed]",
            "text/plain": [
              "<Figure size 720x720 with 1 Axes>"
            ]
          },
          "metadata": {
            "tags": [],
            "needs_background": "light"
          }
        }
      ]
    },
    {
      "cell_type": "markdown",
      "metadata": {
        "id": "VUqxC_8fxKyR"
      },
      "source": [
        "# Deliverable 3\n",
        "Best tuning Parameter"
      ]
    },
    {
      "cell_type": "code",
      "metadata": {
        "id": "RmvJRUSHfrOI",
        "outputId": "9ffb1fcb-5e2e-41c1-ea29-a1633646b148",
        "colab": {
          "base_uri": "https://localhost:8080/",
          "height": 52
        }
      },
      "source": [
        "min_CV_error = min(CV_errors)\n",
        "min_index    = CV_errors.index(min_CV_error)\n",
        "best_lmbda   = lmbdas[min_index]\n",
        "print(\"Best tuning parameter lambda={}\".format(best_lmbda))\n",
        "print(\"Cross Validation error for the best lambda={}\".format(min_CV_error))\n"
      ],
      "execution_count": null,
      "outputs": [
        {
          "output_type": "stream",
          "text": [
            "Best tuning parameter lambda=0.01\n",
            "Cross Validation error for the best lambda=12396.79724409415\n"
          ],
          "name": "stdout"
        }
      ]
    },
    {
      "cell_type": "markdown",
      "metadata": {
        "id": "taDlEnIwxV4b"
      },
      "source": [
        "# Deliverable 4\n",
        "Re-Compute with optimal model parameters"
      ]
    },
    {
      "cell_type": "code",
      "metadata": {
        "id": "5R6yxtxvfrOK",
        "outputId": "679cd09e-d1f9-4213-8237-c9abb886246a",
        "colab": {
          "base_uri": "https://localhost:8080/",
          "height": 70
        }
      },
      "source": [
        "alpha = 1e-5\n",
        "beta_coeffs, _ = perform_RR(X_p, Y_p, alpha, best_lmbda)\n",
        "print(\"Best fit model parameters\")\n",
        "print(np.squeeze(beta_coeffs))"
      ],
      "execution_count": null,
      "outputs": [
        {
          "output_type": "stream",
          "text": [
            "Best fit model parameters\n",
            "[-227.36908942  288.88566041  284.20948994   22.05911708  -16.82924539\n",
            "   -2.01110398    3.67723109  125.17369611   -5.47803137]\n"
          ],
          "name": "stdout"
        }
      ]
    },
    {
      "cell_type": "markdown",
      "metadata": {
        "id": "9uY_LyASxnqo"
      },
      "source": [
        "# Deliverable 5\n",
        "\n",
        "Code is written in python\n",
        "\n",
        "Run code in a python Jupyter Notebook or Google Collab\n",
        "\n",
        "Install Required Libraries - specified in the import statement"
      ]
    },
    {
      "cell_type": "markdown",
      "metadata": {
        "id": "l3cOeVaffrOR"
      },
      "source": [
        "# Deliverable 6 - \n",
        "Use a statistical or machine learning library to implement deliverables 1-5\n"
      ]
    },
    {
      "cell_type": "code",
      "metadata": {
        "id": "4l9aNRZ5frOS"
      },
      "source": [
        "# importing additional required libraries \n",
        "from sklearn.linear_model import Ridge\n",
        "from sklearn.model_selection import KFold\n",
        "from sklearn.preprocessing import StandardScaler\n",
        "from sklearn.metrics import mean_squared_error"
      ],
      "execution_count": null,
      "outputs": []
    },
    {
      "cell_type": "markdown",
      "metadata": {
        "id": "lrLjCwa5ycbp"
      },
      "source": [
        "# Deliverable 6-1\n",
        "Using SKLEARN Library"
      ]
    },
    {
      "cell_type": "code",
      "metadata": {
        "id": "OM_D-6zkfrOU",
        "outputId": "2bfdae97-1378-4316-9eb1-b8c9037be2dd",
        "colab": {
          "base_uri": "https://localhost:8080/",
          "height": 745
        }
      },
      "source": [
        "lmbdas     = np.array([1e-2, 1e-1, 1e0, 1e1, 1e2, 1e3, 1e4])\n",
        "log_lmbdas = np.log10(lmbdas)\n",
        "#print(log_lmbda)\n",
        "\n",
        "scalar_X = StandardScaler()\n",
        "X_p = scalar_X.fit_transform(X)\n",
        "#print('X_mean' , scalar_X.mean_)\n",
        "#print('X_std'  , scalar_X.scale_ )\n",
        "\n",
        "scalar_Y = StandardScaler(with_std=False) # do not normalize Y, just center it\n",
        "Y_p = scalar_Y.fit_transform(Y)\n",
        "#print('Y_mean' , scalar_Y.mean_)\n",
        "\n",
        "beta_coeffs_lst = [] # initializing empty list for storing the computed beta_coefficients for each of the tuning parameter lmbda values     \n",
        "for i, lmbda in enumerate(lmbdas) :\n",
        "    print('Computing coefficients for tuning parameter={} using Sklearn library'.format(lmbda))\n",
        "    model = Ridge(alpha = lmbda, fit_intercept=False, max_iter = 1000)\n",
        "    model.fit(X_p, Y_p)    \n",
        "    coeffs = model.coef_\n",
        "    beta_coeffs_lst.append(coeffs) \n",
        "    \n",
        "num_features = X_p.shape[1]    \n",
        "plt.figure()\n",
        "plt.xlabel('log10(lambda)')\n",
        "plt.ylabel('Regression Coefficients')\n",
        "plt.title('Effect of tuning parameter on Ridge Regression Coefficients')\n",
        "for j in range(num_features) :\n",
        "    coeffs_j    = [ coeffs[0,j] for coeffs in beta_coeffs_lst  ]\n",
        "    legend_str = 'j_{}'.format(j)\n",
        "    plt.plot(log_lmbdas, coeffs_j, label=legend_str)\n",
        "plt.legend()\n",
        "plt.rcParams['figure.figsize'] = [10, 10]\n",
        "plt.show()\n"
      ],
      "execution_count": null,
      "outputs": [
        {
          "output_type": "stream",
          "text": [
            "Computing coefficients for tuning parameter=0.01 using Sklearn library\n",
            "Computing coefficients for tuning parameter=0.1 using Sklearn library\n",
            "Computing coefficients for tuning parameter=1.0 using Sklearn library\n",
            "Computing coefficients for tuning parameter=10.0 using Sklearn library\n",
            "Computing coefficients for tuning parameter=100.0 using Sklearn library\n",
            "Computing coefficients for tuning parameter=1000.0 using Sklearn library\n",
            "Computing coefficients for tuning parameter=10000.0 using Sklearn library\n"
          ],
          "name": "stdout"
        },
        {
          "output_type": "display_data",
          "data": {
            "image/png": "[encoded data removed]",
            "text/plain": [
              "<Figure size 720x720 with 1 Axes>"
            ]
          },
          "metadata": {
            "tags": [],
            "needs_background": "light"
          }
        }
      ]
    },
    {
      "cell_type": "markdown",
      "metadata": {
        "id": "dgBThgZNykXm"
      },
      "source": [
        "# Deliverable 6-2\n",
        "5 fold cross validation using SKLEARN"
      ]
    },
    {
      "cell_type": "code",
      "metadata": {
        "id": "m-Lq_YSAfrOX",
        "outputId": "4ab11901-d205-4a73-cb89-3f7def469f4a",
        "colab": {
          "base_uri": "https://localhost:8080/",
          "height": 870
        }
      },
      "source": [
        "lmbdas     = np.array([1e-2, 1e-1, 1e0, 1e1, 1e2, 1e3, 1e4])\n",
        "log_lmbdas = np.log10(lmbdas)\n",
        "#print(log_lmbda)\n",
        "\n",
        "fold_factor = 5 \n",
        "kf = KFold(n_splits=fold_factor)\n",
        "\n",
        "CV_errors = [] # initializing empty list for storing the cross validation errors for each of the tuning parameter lmbda values     \n",
        "for i, lmbda in enumerate(lmbdas) :\n",
        "    print('Computing 5-fold cross validation error for tuning parameter={} using SKLEARN'.format(lmbda))\n",
        "    mses = [] \n",
        "    \n",
        "    for train_index, val_index in kf.split(X) :\n",
        "        #print(\"TRAIN:\", train_index, \"VAL:\", val_index)\n",
        "        X_val = X[val_index]\n",
        "        Y_val = Y[val_index]\n",
        "        X_train = X[train_index]\n",
        "        Y_train = Y[train_index]\n",
        "        \n",
        "        # Preprocessing X and Y\n",
        "        scalar_X  = StandardScaler()\n",
        "        X_train_p = scalar_X.fit_transform(X_train)\n",
        "        X_val_p   = scalar_X.transform(X_val)        \n",
        "        scalar_Y  = StandardScaler(with_std=False) # do not normalize Y, just center it\n",
        "        Y_train_p = scalar_Y.fit_transform(Y_train)\n",
        "        Y_val_p   = scalar_Y.transform(Y_val)\n",
        "    \n",
        "        # Performing ridge regression and computing mse on the validation set\n",
        "        model = Ridge(alpha = lmbda, fit_intercept=False, max_iter = 1000)\n",
        "        model.fit(X_train_p, Y_train_p)    \n",
        "        Y_pred = model.predict(X_val_p)\n",
        "        mse    = mean_squared_error(Y_val_p, Y_pred) \n",
        "        mses.append(mse)\n",
        "     \n",
        "    CV_error = np.mean(mses)\n",
        "    CV_errors.append(CV_error)    \n",
        "    #print(\"MSEs\",mses)\n",
        "    print(\"CV_error\", CV_error)\n",
        "    \n",
        "\n",
        "plt.figure()\n",
        "plt.xlabel('log10(lambda)')\n",
        "plt.ylabel('Cross Validation Error')\n",
        "plt.title('Effect of tuning parameter on the Cross Validation Error')\n",
        "plt.plot(log_lmbdas, CV_errors)\n",
        "plt.rcParams['figure.figsize'] = [10, 10]\n",
        "plt.show()"
      ],
      "execution_count": null,
      "outputs": [
        {
          "output_type": "stream",
          "text": [
            "Computing 5-fold cross validation error for tuning parameter=0.01 using SKLEARN\n",
            "CV_error 10090.944973234155\n",
            "Computing 5-fold cross validation error for tuning parameter=0.1 using SKLEARN\n",
            "CV_error 10082.46774154714\n",
            "Computing 5-fold cross validation error for tuning parameter=1.0 using SKLEARN\n",
            "CV_error 10083.32362788357\n",
            "Computing 5-fold cross validation error for tuning parameter=10.0 using SKLEARN\n",
            "CV_error 10854.65686220047\n",
            "Computing 5-fold cross validation error for tuning parameter=100.0 using SKLEARN\n",
            "CV_error 30276.864232586424\n",
            "Computing 5-fold cross validation error for tuning parameter=1000.0 using SKLEARN\n",
            "CV_error 107121.87350725205\n",
            "Computing 5-fold cross validation error for tuning parameter=10000.0 using SKLEARN\n",
            "CV_error 191594.575585394\n"
          ],
          "name": "stdout"
        },
        {
          "output_type": "display_data",
          "data": {
            "image/png": "[encoded data removed]",
            "text/plain": [
              "<Figure size 720x720 with 1 Axes>"
            ]
          },
          "metadata": {
            "tags": [],
            "needs_background": "light"
          }
        }
      ]
    },
    {
      "cell_type": "markdown",
      "metadata": {
        "id": "XDQl7y89ypzb"
      },
      "source": [
        "# Deliverable 6-3\n",
        "Best tuning Parameter"
      ]
    },
    {
      "cell_type": "code",
      "metadata": {
        "id": "OlihhRFIfrOa",
        "outputId": "25a31fb7-2d58-4c43-a2dd-81f8c6933b6f",
        "colab": {
          "base_uri": "https://localhost:8080/",
          "height": 52
        }
      },
      "source": [
        "min_CV_error = min(CV_errors)\n",
        "min_index    = CV_errors.index(min_CV_error)\n",
        "best_lmbda   = lmbdas[min_index]\n",
        "print(\"Best tuning parameter lambda={}\".format(best_lmbda))\n",
        "print(\"Cross Validation error for the best lambda={}\".format(min_CV_error))"
      ],
      "execution_count": null,
      "outputs": [
        {
          "output_type": "stream",
          "text": [
            "Best tuning parameter lambda=0.1\n",
            "Cross Validation error for the best lambda=10082.46774154714\n"
          ],
          "name": "stdout"
        }
      ]
    },
    {
      "cell_type": "markdown",
      "metadata": {
        "id": "zkeKq87_yu17"
      },
      "source": [
        "# Deliverable 6-4\n",
        "Compute best fit model parameters"
      ]
    },
    {
      "cell_type": "code",
      "metadata": {
        "id": "Ed-Qi-SffrOc",
        "outputId": "c468ef15-e1d1-4679-9cf7-819569641312",
        "colab": {
          "base_uri": "https://localhost:8080/",
          "height": 70
        }
      },
      "source": [
        "model = Ridge(alpha = best_lmbda, fit_intercept=False, max_iter = 1000)\n",
        "model.fit(X_p, Y_p)    \n",
        "beta_coeffs = model.coef_\n",
        "print(\"Best fit model parameters\")\n",
        "print(np.squeeze(beta_coeffs))"
      ],
      "execution_count": null,
      "outputs": [
        {
          "output_type": "stream",
          "text": [
            "Best fit model parameters\n",
            "[-274.30439375  430.60643833  184.52205981   23.94169587  -10.97597645\n",
            "   -3.40063905    5.18996712  127.81260569   -3.52295036]\n"
          ],
          "name": "stdout"
        }
      ]
    }
  ]
}